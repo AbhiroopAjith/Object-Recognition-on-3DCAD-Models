{
 "cells": [
  {
   "cell_type": "code",
   "execution_count": 1,
   "metadata": {},
   "outputs": [],
   "source": [
    "import tensorflow as tf"
   ]
  },
  {
   "cell_type": "markdown",
   "metadata": {},
   "source": [
    "# WITH DROPOUT"
   ]
  },
  {
   "cell_type": "code",
   "execution_count": 2,
   "metadata": {},
   "outputs": [],
   "source": [
    "model = tf.keras.models.Sequential([\n",
    "    tf.keras.layers.Conv2D(32, (3,3), activation='relu',input_shape=(320,240,3)),\n",
    "    tf.keras.layers.MaxPooling2D(2,2),\n",
    "    tf.keras.layers.Conv2D(64, (3,3), activation='relu'),\n",
    "    tf.keras.layers.MaxPooling2D(2,2),\n",
    "    tf.keras.layers.Dropout(0.5),\n",
    "    tf.keras.layers.Flatten(),\n",
    "    tf.keras.layers.Dense(512, activation='relu'),\n",
    "    tf.keras.layers.Dense(3,activation='softmax'),\n",
    "])"
   ]
  },
  {
   "cell_type": "code",
   "execution_count": 3,
   "metadata": {},
   "outputs": [
    {
     "name": "stdout",
     "output_type": "stream",
     "text": [
      "Model: \"sequential\"\n",
      "_________________________________________________________________\n",
      "Layer (type)                 Output Shape              Param #   \n",
      "=================================================================\n",
      "conv2d (Conv2D)              (None, 318, 238, 32)      896       \n",
      "_________________________________________________________________\n",
      "max_pooling2d (MaxPooling2D) (None, 159, 119, 32)      0         \n",
      "_________________________________________________________________\n",
      "conv2d_1 (Conv2D)            (None, 157, 117, 64)      18496     \n",
      "_________________________________________________________________\n",
      "max_pooling2d_1 (MaxPooling2 (None, 78, 58, 64)        0         \n",
      "_________________________________________________________________\n",
      "dropout (Dropout)            (None, 78, 58, 64)        0         \n",
      "_________________________________________________________________\n",
      "flatten (Flatten)            (None, 289536)            0         \n",
      "_________________________________________________________________\n",
      "dense (Dense)                (None, 512)               148242944 \n",
      "_________________________________________________________________\n",
      "dense_1 (Dense)              (None, 3)                 1539      \n",
      "=================================================================\n",
      "Total params: 148,263,875\n",
      "Trainable params: 148,263,875\n",
      "Non-trainable params: 0\n",
      "_________________________________________________________________\n"
     ]
    }
   ],
   "source": [
    "model.summary()\n",
    "model.compile(loss='sparse_categorical_crossentropy',\n",
    "              optimizer='adam',\n",
    "              metrics=['accuracy'])\n",
    "\n"
   ]
  },
  {
   "cell_type": "code",
   "execution_count": 4,
   "metadata": {},
   "outputs": [
    {
     "name": "stdout",
     "output_type": "stream",
     "text": [
      "Found 2716 images belonging to 3 classes.\n",
      "Found 612 images belonging to 3 classes.\n"
     ]
    }
   ],
   "source": [
    "from tensorflow.keras.preprocessing.image import ImageDataGenerator\n",
    "\n",
    "# All images will be rescaled by 1./255\n",
    "train_datagen = ImageDataGenerator(rescale=1/255)\n",
    "validation_datagen = ImageDataGenerator(rescale=1/255)\n",
    "\n",
    "\n",
    "train_generator = train_datagen.flow_from_directory(\n",
    "        'C:\\DSet\\Train',  # This is the source directory for training images\n",
    "        target_size=(320,240),  # All images will be resized to 320*240\n",
    "        batch_size=64,\n",
    "        class_mode='sparse')\n",
    "\n",
    "validation_generator = validation_datagen.flow_from_directory(\n",
    "        'C:\\DSet\\Validation',  \n",
    "        target_size=(320,240), \n",
    "        batch_size=32,\n",
    "        class_mode='sparse')"
   ]
  },
  {
   "cell_type": "code",
   "execution_count": 5,
   "metadata": {},
   "outputs": [
    {
     "name": "stdout",
     "output_type": "stream",
     "text": [
      "WARNING:tensorflow:sample_weight modes were coerced from\n",
      "  ...\n",
      "    to  \n",
      "  ['...']\n",
      "WARNING:tensorflow:sample_weight modes were coerced from\n",
      "  ...\n",
      "    to  \n",
      "  ['...']\n",
      "Train for 8 steps, validate for 8 steps\n",
      "Epoch 1/5\n",
      "8/8 [==============================] - 32s 4s/step - loss: 6.6257 - accuracy: 0.5137 - val_loss: 0.7084 - val_accuracy: 0.7656\n",
      "Epoch 2/5\n",
      "8/8 [==============================] - 34s 4s/step - loss: 0.4611 - accuracy: 0.8516 - val_loss: 0.1074 - val_accuracy: 0.9648\n",
      "Epoch 3/5\n",
      "8/8 [==============================] - 31s 4s/step - loss: 0.0978 - accuracy: 0.9590 - val_loss: 0.1318 - val_accuracy: 0.9844\n",
      "Epoch 4/5\n",
      "8/8 [==============================] - 36s 4s/step - loss: 0.0096 - accuracy: 1.0000 - val_loss: 0.3073 - val_accuracy: 0.9805\n",
      "Epoch 5/5\n",
      "8/8 [==============================] - 33s 4s/step - loss: 0.0019 - accuracy: 1.0000 - val_loss: 0.2638 - val_accuracy: 0.9844\n"
     ]
    }
   ],
   "source": [
    "history = model.fit(\n",
    "      train_generator,\n",
    "      steps_per_epoch=8,  \n",
    "      epochs=5,\n",
    "      verbose=1,\n",
    "      validation_data = validation_generator,\n",
    "      validation_steps=8)"
   ]
  },
  {
   "cell_type": "code",
   "execution_count": 6,
   "metadata": {},
   "outputs": [
    {
     "data": {
      "text/plain": [
       "Text(0.5, 1.0, 'Training and validation loss')"
      ]
     },
     "execution_count": 6,
     "metadata": {},
     "output_type": "execute_result"
    },
    {
     "data": {
      "image/png": "[encoded data removed]",
      "text/plain": [
       "<Figure size 432x288 with 1 Axes>"
      ]
     },
     "metadata": {
      "needs_background": "light"
     },
     "output_type": "display_data"
    },
    {
     "data": {
      "image/png": "[encoded data removed]",
      "text/plain": [
       "<Figure size 432x288 with 1 Axes>"
      ]
     },
     "metadata": {
      "needs_background": "light"
     },
     "output_type": "display_data"
    }
   ],
   "source": [
    "import matplotlib.image  as mpimg\n",
    "import matplotlib.pyplot as plt\n",
    "\n",
    "\n",
    "acc=history.history['accuracy']\n",
    "val_acc=history.history['val_accuracy']\n",
    "loss=history.history['loss']\n",
    "val_loss=history.history['val_loss']\n",
    "\n",
    "epochs=range(len(acc))\n",
    "\n",
    "plt.plot(epochs, acc, 'r', \"Training Accuracy\")\n",
    "plt.plot(epochs, val_acc, 'b', \"Validation Accuracy\")\n",
    "plt.title('Training and validation accuracy')\n",
    "plt.figure()\n",
    "\n",
    "plt.plot(epochs, loss, 'r', \"Training Loss\")\n",
    "plt.plot(epochs, val_loss, 'b', \"Validation Loss\")\n",
    "\n",
    "\n",
    "plt.title('Training and validation loss')"
   ]
  },
  {
   "cell_type": "markdown",
   "metadata": {},
   "source": [
    "# With Batch Normalization"
   ]
  },
  {
   "cell_type": "code",
   "execution_count": 32,
   "metadata": {},
   "outputs": [
    {
     "name": "stdout",
     "output_type": "stream",
     "text": [
      "Model: \"sequential_8\"\n",
      "_________________________________________________________________\n",
      "Layer (type)                 Output Shape              Param #   \n",
      "=================================================================\n",
      "conv2d_16 (Conv2D)           (None, 318, 238, 32)      896       \n",
      "_________________________________________________________________\n",
      "max_pooling2d_16 (MaxPooling (None, 159, 119, 32)      0         \n",
      "_________________________________________________________________\n",
      "conv2d_17 (Conv2D)           (None, 157, 117, 64)      18496     \n",
      "_________________________________________________________________\n",
      "max_pooling2d_17 (MaxPooling (None, 78, 58, 64)        0         \n",
      "_________________________________________________________________\n",
      "batch_normalization_6 (Batch (None, 78, 58, 64)        256       \n",
      "_________________________________________________________________\n",
      "flatten_8 (Flatten)          (None, 289536)            0         \n",
      "_________________________________________________________________\n",
      "dense_16 (Dense)             (None, 512)               148242944 \n",
      "_________________________________________________________________\n",
      "dense_17 (Dense)             (None, 3)                 1539      \n",
      "=================================================================\n",
      "Total params: 148,264,131\n",
      "Trainable params: 148,264,003\n",
      "Non-trainable params: 128\n",
      "_________________________________________________________________\n"
     ]
    }
   ],
   "source": [
    "import tensorflow as tf\n",
    "model = tf.keras.models.Sequential([\n",
    "    tf.keras.layers.Conv2D(32, (3,3), activation='relu',input_shape=(320,240,3)),\n",
    "    tf.keras.layers.MaxPooling2D(2,2),\n",
    "    tf.keras.layers.Conv2D(64, (3,3), activation='relu'),\n",
    "    tf.keras.layers.MaxPooling2D(2,2),\n",
    "    tf.keras.layers.BatchNormalization(axis=-1, momentum=0.9, epsilon=0.001),\n",
    "    tf.keras.layers.Flatten(),\n",
    "    tf.keras.layers.Dense(512, activation='relu'),\n",
    "    tf.keras.layers.Dense(3,activation='softmax'),\n",
    "])\n",
    "\n",
    "model.summary()\n",
    "model.compile(loss='sparse_categorical_crossentropy',\n",
    "              optimizer='adam',\n",
    "              metrics=['accuracy'])\n"
   ]
  },
  {
   "cell_type": "code",
   "execution_count": 33,
   "metadata": {},
   "outputs": [
    {
     "name": "stdout",
     "output_type": "stream",
     "text": [
      "Found 2716 images belonging to 3 classes.\n",
      "Found 612 images belonging to 3 classes.\n"
     ]
    }
   ],
   "source": [
    "from tensorflow.keras.preprocessing.image import ImageDataGenerator\n",
    "\n",
    "# All images will be rescaled by 1./255\n",
    "train_datagen = ImageDataGenerator(rescale=1/255)\n",
    "validation_datagen = ImageDataGenerator(rescale=1/255)\n",
    "\n",
    "\n",
    "train_generator = train_datagen.flow_from_directory(\n",
    "        'C:\\DSet\\Train',  # This is the source directory for training images\n",
    "        target_size=(320,240),  # All images will be resized to 320*240\n",
    "        batch_size=64,\n",
    "        class_mode='sparse')\n",
    "\n",
    "validation_generator = validation_datagen.flow_from_directory(\n",
    "        'C:\\DSet\\Validation',  \n",
    "        target_size=(320,240), \n",
    "        batch_size=32,\n",
    "        class_mode='sparse')"
   ]
  },
  {
   "cell_type": "code",
   "execution_count": 34,
   "metadata": {},
   "outputs": [
    {
     "name": "stdout",
     "output_type": "stream",
     "text": [
      "WARNING:tensorflow:sample_weight modes were coerced from\n",
      "  ...\n",
      "    to  \n",
      "  ['...']\n",
      "WARNING:tensorflow:sample_weight modes were coerced from\n",
      "  ...\n",
      "    to  \n",
      "  ['...']\n",
      "Train for 8 steps, validate for 8 steps\n",
      "Epoch 1/5\n",
      "8/8 [==============================] - 35s 4s/step - loss: 16.7114 - accuracy: 0.6836 - val_loss: 1.6486 - val_accuracy: 0.8164\n",
      "Epoch 2/5\n",
      "8/8 [==============================] - 35s 4s/step - loss: 0.3141 - accuracy: 0.9648 - val_loss: 1.0308 - val_accuracy: 0.6250\n",
      "Epoch 3/5\n",
      "8/8 [==============================] - 33s 4s/step - loss: 0.0388 - accuracy: 0.9863 - val_loss: 0.2959 - val_accuracy: 0.8164\n",
      "Epoch 4/5\n",
      "8/8 [==============================] - 34s 4s/step - loss: 0.0166 - accuracy: 0.9980 - val_loss: 0.1075 - val_accuracy: 0.9688\n",
      "Epoch 5/5\n",
      "8/8 [==============================] - 33s 4s/step - loss: 5.4290e-07 - accuracy: 1.0000 - val_loss: 0.7588 - val_accuracy: 0.9062\n"
     ]
    }
   ],
   "source": [
    "history = model.fit(\n",
    "      train_generator,\n",
    "      steps_per_epoch=8,  \n",
    "      epochs=5,\n",
    "      verbose=1,\n",
    "      validation_data = validation_generator,\n",
    "      validation_steps=8)"
   ]
  },
  {
   "cell_type": "code",
   "execution_count": 13,
   "metadata": {},
   "outputs": [
    {
     "data": {
      "image/png": "[encoded data removed]",
      "text/plain": [
       "<Figure size 432x288 with 1 Axes>"
      ]
     },
     "metadata": {
      "needs_background": "light"
     },
     "output_type": "display_data"
    },
    {
     "data": {
      "image/png": "[encoded data removed]",
      "text/plain": [
       "<Figure size 432x288 with 1 Axes>"
      ]
     },
     "metadata": {
      "needs_background": "light"
     },
     "output_type": "display_data"
    }
   ],
   "source": [
    "import matplotlib.pyplot as plt\n",
    "acc = history.history['accuracy']\n",
    "val_acc = history.history['val_accuracy']\n",
    "loss = history.history['loss']\n",
    "val_loss = history.history['val_loss']\n",
    "\n",
    "epochs = range(len(acc))\n",
    "\n",
    "plt.plot(epochs, acc, 'bo', label='Training accuracy')\n",
    "plt.plot(epochs, val_acc, 'b', label='Validation accuracy')\n",
    "plt.title('Training and validation accuracy')\n",
    "\n",
    "plt.figure()\n",
    "\n",
    "plt.plot(epochs, loss, 'bo', label='Training Loss')\n",
    "plt.plot(epochs, val_loss, 'b', label='Validation Loss')\n",
    "plt.title('Training and validation loss')\n",
    "plt.legend()\n",
    "\n",
    "plt.show()"
   ]
  },
  {
   "cell_type": "markdown",
   "metadata": {},
   "source": [
    "# Augmentation"
   ]
  },
  {
   "cell_type": "code",
   "execution_count": 14,
   "metadata": {},
   "outputs": [
    {
     "name": "stdout",
     "output_type": "stream",
     "text": [
      "Model: \"sequential_2\"\n",
      "_________________________________________________________________\n",
      "Layer (type)                 Output Shape              Param #   \n",
      "=================================================================\n",
      "conv2d_4 (Conv2D)            (None, 318, 238, 32)      896       \n",
      "_________________________________________________________________\n",
      "max_pooling2d_4 (MaxPooling2 (None, 159, 119, 32)      0         \n",
      "_________________________________________________________________\n",
      "conv2d_5 (Conv2D)            (None, 157, 117, 64)      18496     \n",
      "_________________________________________________________________\n",
      "max_pooling2d_5 (MaxPooling2 (None, 78, 58, 64)        0         \n",
      "_________________________________________________________________\n",
      "flatten_2 (Flatten)          (None, 289536)            0         \n",
      "_________________________________________________________________\n",
      "dense_4 (Dense)              (None, 512)               148242944 \n",
      "_________________________________________________________________\n",
      "dense_5 (Dense)              (None, 3)                 1539      \n",
      "=================================================================\n",
      "Total params: 148,263,875\n",
      "Trainable params: 148,263,875\n",
      "Non-trainable params: 0\n",
      "_________________________________________________________________\n"
     ]
    }
   ],
   "source": [
    "import tensorflow as tf\n",
    "model = tf.keras.models.Sequential([\n",
    "    tf.keras.layers.Conv2D(32, (3,3), activation='relu',input_shape=(320,240,3)),\n",
    "    tf.keras.layers.MaxPooling2D(2,2),\n",
    "    tf.keras.layers.Conv2D(64, (3,3), activation='relu'),\n",
    "    tf.keras.layers.MaxPooling2D(2,2),\n",
    "    tf.keras.layers.Flatten(),\n",
    "    tf.keras.layers.Dense(512, activation='relu'),\n",
    "    tf.keras.layers.Dense(3,activation='softmax'),\n",
    "])\n",
    "\n",
    "model.summary()\n",
    "model.compile(loss='sparse_categorical_crossentropy',\n",
    "              optimizer='adam',\n",
    "              metrics=['accuracy'])"
   ]
  },
  {
   "cell_type": "code",
   "execution_count": 15,
   "metadata": {},
   "outputs": [
    {
     "name": "stdout",
     "output_type": "stream",
     "text": [
      "Found 2716 images belonging to 3 classes.\n",
      "Found 612 images belonging to 3 classes.\n"
     ]
    }
   ],
   "source": [
    "from tensorflow.keras.preprocessing.image import ImageDataGenerator\n",
    "\n",
    "# ADDED AUGMENTATION. ROTATION AND OTHER FUNCTIONS ARE DONE\n",
    "train_datagen = ImageDataGenerator(\n",
    "      rescale=1./255,\n",
    "      rotation_range=40,\n",
    "      width_shift_range=0.2,\n",
    "      height_shift_range=0.2,\n",
    "      shear_range=0.2,\n",
    "      zoom_range=0.2,\n",
    "      horizontal_flip=True,\n",
    "      fill_mode='nearest')\n",
    "validation_datagen = ImageDataGenerator(rescale=1/255)\n",
    "\n",
    "\n",
    "train_generator = train_datagen.flow_from_directory(\n",
    "        'C:\\DSet\\Train',  # This is the source directory for training images\n",
    "        target_size=(320,240),  # All images will be resized to 320*240\n",
    "        batch_size=64,\n",
    "        class_mode='sparse')\n",
    "\n",
    "validation_generator = validation_datagen.flow_from_directory(\n",
    "        'C:\\DSet\\Validation',  \n",
    "        target_size=(320,240), \n",
    "        batch_size=32,\n",
    "        class_mode='sparse')"
   ]
  },
  {
   "cell_type": "code",
   "execution_count": 16,
   "metadata": {},
   "outputs": [
    {
     "name": "stdout",
     "output_type": "stream",
     "text": [
      "WARNING:tensorflow:sample_weight modes were coerced from\n",
      "  ...\n",
      "    to  \n",
      "  ['...']\n",
      "WARNING:tensorflow:sample_weight modes were coerced from\n",
      "  ...\n",
      "    to  \n",
      "  ['...']\n",
      "Train for 8 steps, validate for 8 steps\n",
      "Epoch 1/5\n",
      "8/8 [==============================] - 31s 4s/step - loss: 6.6361 - accuracy: 0.4570 - val_loss: 0.6640 - val_accuracy: 0.8008\n",
      "Epoch 2/5\n",
      "8/8 [==============================] - 29s 4s/step - loss: 0.8046 - accuracy: 0.5938 - val_loss: 0.4601 - val_accuracy: 0.8555\n",
      "Epoch 3/5\n",
      "8/8 [==============================] - 29s 4s/step - loss: 0.4187 - accuracy: 0.8848 - val_loss: 0.1403 - val_accuracy: 0.9492\n",
      "Epoch 4/5\n",
      "8/8 [==============================] - 30s 4s/step - loss: 0.3121 - accuracy: 0.8824 - val_loss: 0.1638 - val_accuracy: 0.9297\n",
      "Epoch 5/5\n",
      "8/8 [==============================] - 37s 5s/step - loss: 0.1684 - accuracy: 0.9336 - val_loss: 0.0698 - val_accuracy: 0.9844\n"
     ]
    }
   ],
   "source": [
    "history = model.fit(\n",
    "      train_generator,\n",
    "      steps_per_epoch=8,  \n",
    "      epochs=5,\n",
    "      verbose=1,\n",
    "      validation_data = validation_generator,\n",
    "      validation_steps=8)"
   ]
  },
  {
   "cell_type": "code",
   "execution_count": 36,
   "metadata": {},
   "outputs": [
    {
     "data": {
      "image/png": "[encoded data removed]",
      "text/plain": [
       "<Figure size 432x288 with 1 Axes>"
      ]
     },
     "metadata": {
      "needs_background": "light"
     },
     "output_type": "display_data"
    },
    {
     "data": {
      "image/png": "[encoded data removed]",
      "text/plain": [
       "<Figure size 432x288 with 1 Axes>"
      ]
     },
     "metadata": {
      "needs_background": "light"
     },
     "output_type": "display_data"
    }
   ],
   "source": [
    "import matplotlib.pyplot as plt\n",
    "acc = history.history['accuracy']\n",
    "val_acc = history.history['val_accuracy']\n",
    "loss = history.history['loss']\n",
    "val_loss = history.history['val_loss']\n",
    "\n",
    "epochs = range(len(acc))\n",
    "\n",
    "plt.plot(epochs, acc, 'bo', label='Training accuracy')\n",
    "plt.plot(epochs, val_acc, 'b', label='Validation accuracy')\n",
    "plt.title('Training and validation accuracy')\n",
    "\n",
    "plt.figure()\n",
    "\n",
    "plt.plot(epochs, loss, 'bo', label='Training Loss')\n",
    "plt.plot(epochs, val_loss, 'b', label='Validation Loss')\n",
    "plt.title('Training and validation loss')\n",
    "plt.legend()\n",
    "\n",
    "plt.show()"
   ]
  },
  {
   "cell_type": "markdown",
   "metadata": {},
   "source": [
    "# With all 3"
   ]
  },
  {
   "cell_type": "code",
   "execution_count": 50,
   "metadata": {},
   "outputs": [
    {
     "name": "stdout",
     "output_type": "stream",
     "text": [
      "Model: \"sequential_13\"\n",
      "_________________________________________________________________\n",
      "Layer (type)                 Output Shape              Param #   \n",
      "=================================================================\n",
      "conv2d_26 (Conv2D)           (None, 318, 238, 32)      896       \n",
      "_________________________________________________________________\n",
      "max_pooling2d_26 (MaxPooling (None, 159, 119, 32)      0         \n",
      "_________________________________________________________________\n",
      "batch_normalization_13 (Batc (None, 159, 119, 32)      128       \n",
      "_________________________________________________________________\n",
      "conv2d_27 (Conv2D)           (None, 157, 117, 64)      18496     \n",
      "_________________________________________________________________\n",
      "max_pooling2d_27 (MaxPooling (None, 78, 58, 64)        0         \n",
      "_________________________________________________________________\n",
      "dropout_5 (Dropout)          (None, 78, 58, 64)        0         \n",
      "_________________________________________________________________\n",
      "flatten_13 (Flatten)         (None, 289536)            0         \n",
      "_________________________________________________________________\n",
      "dense_26 (Dense)             (None, 512)               148242944 \n",
      "_________________________________________________________________\n",
      "dense_27 (Dense)             (None, 3)                 1539      \n",
      "=================================================================\n",
      "Total params: 148,264,003\n",
      "Trainable params: 148,263,939\n",
      "Non-trainable params: 64\n",
      "_________________________________________________________________\n"
     ]
    }
   ],
   "source": [
    "import tensorflow as tf\n",
    "model = tf.keras.models.Sequential([\n",
    "    tf.keras.layers.Conv2D(32, (3,3), activation='relu',input_shape=(320,240,3)),\n",
    "    tf.keras.layers.MaxPooling2D(2,2),\n",
    "    tf.keras.layers.BatchNormalization(axis=-1, momentum=0.99, epsilon=0.001),\n",
    "    tf.keras.layers.Conv2D(64, (3,3), activation='relu'),\n",
    "    tf.keras.layers.MaxPooling2D(2,2),\n",
    "    tf.keras.layers.Dropout(0.5),\n",
    "    tf.keras.layers.Flatten(),\n",
    "    tf.keras.layers.Dense(512, activation='relu'),\n",
    "    tf.keras.layers.Dense(3,activation='softmax'),\n",
    "])\n",
    "\n",
    "model.summary()\n",
    "model.compile(loss='sparse_categorical_crossentropy',\n",
    "              optimizer='adam',\n",
    "              metrics=['accuracy'])"
   ]
  },
  {
   "cell_type": "code",
   "execution_count": 51,
   "metadata": {},
   "outputs": [
    {
     "name": "stdout",
     "output_type": "stream",
     "text": [
      "Found 2716 images belonging to 3 classes.\n",
      "Found 612 images belonging to 3 classes.\n"
     ]
    }
   ],
   "source": [
    "from tensorflow.keras.preprocessing.image import ImageDataGenerator\n",
    "\n",
    "# ADDED AUGMENTATION. ROTATION AND OTHER FUNCTIONS ARE DONE\n",
    "train_datagen = ImageDataGenerator(\n",
    "      rescale=1./255,\n",
    "      rotation_range=40,\n",
    "      width_shift_range=0.2,\n",
    "      height_shift_range=0.2,\n",
    "      shear_range=0.2,\n",
    "      zoom_range=0.2,\n",
    "      horizontal_flip=True,\n",
    "      fill_mode='nearest')\n",
    "validation_datagen = ImageDataGenerator(rescale=1/255)\n",
    "\n",
    "\n",
    "train_generator = train_datagen.flow_from_directory(\n",
    "        'C:\\DSet\\Train',  # This is the source directory for training images\n",
    "        target_size=(320,240),  # All images will be resized to 320*240\n",
    "        batch_size=64,\n",
    "        class_mode='sparse')\n",
    "\n",
    "validation_generator = validation_datagen.flow_from_directory(\n",
    "        'C:\\DSet\\Validation',  \n",
    "        target_size=(320,240), \n",
    "        batch_size=32,\n",
    "        class_mode='sparse')"
   ]
  },
  {
   "cell_type": "code",
   "execution_count": 52,
   "metadata": {},
   "outputs": [
    {
     "name": "stdout",
     "output_type": "stream",
     "text": [
      "WARNING:tensorflow:sample_weight modes were coerced from\n",
      "  ...\n",
      "    to  \n",
      "  ['...']\n",
      "WARNING:tensorflow:sample_weight modes were coerced from\n",
      "  ...\n",
      "    to  \n",
      "  ['...']\n",
      "Train for 8 steps, validate for 8 steps\n",
      "Epoch 1/10\n",
      "8/8 [==============================] - 34s 4s/step - loss: 19.7350 - accuracy: 0.4980 - val_loss: 1.2830 - val_accuracy: 0.5430\n",
      "Epoch 2/10\n",
      "8/8 [==============================] - 34s 4s/step - loss: 3.6426 - accuracy: 0.5566 - val_loss: 3.2240 - val_accuracy: 0.3164\n",
      "Epoch 3/10\n",
      "8/8 [==============================] - 34s 4s/step - loss: 1.2156 - accuracy: 0.7695 - val_loss: 2.2236 - val_accuracy: 0.3164\n",
      "Epoch 4/10\n",
      "8/8 [==============================] - 35s 4s/step - loss: 0.4314 - accuracy: 0.8848 - val_loss: 1.1691 - val_accuracy: 0.3789\n",
      "Epoch 5/10\n",
      "8/8 [==============================] - 34s 4s/step - loss: 0.2259 - accuracy: 0.9219 - val_loss: 0.9086 - val_accuracy: 0.5352\n",
      "Epoch 6/10\n",
      "8/8 [==============================] - 34s 4s/step - loss: 0.0461 - accuracy: 0.9844 - val_loss: 0.8621 - val_accuracy: 0.5234\n",
      "Epoch 7/10\n",
      "8/8 [==============================] - 33s 4s/step - loss: 0.0580 - accuracy: 0.9853 - val_loss: 0.6131 - val_accuracy: 0.6875\n",
      "Epoch 8/10\n",
      "8/8 [==============================] - 33s 4s/step - loss: 0.0387 - accuracy: 0.9902 - val_loss: 0.7023 - val_accuracy: 0.5977\n",
      "Epoch 9/10\n",
      "8/8 [==============================] - 34s 4s/step - loss: 0.0252 - accuracy: 0.9922 - val_loss: 0.4098 - val_accuracy: 0.8672\n",
      "Epoch 10/10\n",
      "8/8 [==============================] - 34s 4s/step - loss: 0.0913 - accuracy: 0.9766 - val_loss: 0.4096 - val_accuracy: 0.8672\n"
     ]
    }
   ],
   "source": [
    "history = model.fit(\n",
    "      train_generator,\n",
    "      steps_per_epoch=8,  \n",
    "      epochs=10,\n",
    "      verbose=1,\n",
    "      validation_data = validation_generator,\n",
    "      validation_steps=8)"
   ]
  },
  {
   "cell_type": "code",
   "execution_count": 53,
   "metadata": {},
   "outputs": [
    {
     "data": {
      "image/png": "[encoded data removed]",
      "text/plain": [
       "<Figure size 432x288 with 1 Axes>"
      ]
     },
     "metadata": {
      "needs_background": "light"
     },
     "output_type": "display_data"
    },
    {
     "data": {
      "image/png": "[encoded data removed]",
      "text/plain": [
       "<Figure size 432x288 with 1 Axes>"
      ]
     },
     "metadata": {
      "needs_background": "light"
     },
     "output_type": "display_data"
    }
   ],
   "source": [
    "import matplotlib.pyplot as plt\n",
    "acc = history.history['accuracy']\n",
    "val_acc = history.history['val_accuracy']\n",
    "loss = history.history['loss']\n",
    "val_loss = history.history['val_loss']\n",
    "\n",
    "epochs = range(len(acc))\n",
    "\n",
    "plt.plot(epochs, acc, 'bo', label='Training accuracy')\n",
    "plt.plot(epochs, val_acc, 'b', label='Validation accuracy')\n",
    "plt.title('Training and validation accuracy')\n",
    "\n",
    "plt.figure()\n",
    "\n",
    "plt.plot(epochs, loss, 'bo', label='Training Loss')\n",
    "plt.plot(epochs, val_loss, 'b', label='Validation Loss')\n",
    "plt.title('Training and validation loss')\n",
    "plt.legend()\n",
    "\n",
    "plt.show()"
   ]
  },
  {
   "cell_type": "code",
   "execution_count": null,
   "metadata": {},
   "outputs": [],
   "source": []
  }
 ],
 "metadata": {
  "kernelspec": {
   "display_name": "tensorflowgpu",
   "language": "python",
   "name": "tensorflowgpu"
  },
  "language_info": {
   "codemirror_mode": {
    "name": "ipython",
    "version": 3
   },
   "file_extension": ".py",
   "mimetype": "text/x-python",
   "name": "python",
   "nbconvert_exporter": "python",
   "pygments_lexer": "ipython3",
   "version": "3.8.11"
  }
 },
 "nbformat": 4,
 "nbformat_minor": 2
}
